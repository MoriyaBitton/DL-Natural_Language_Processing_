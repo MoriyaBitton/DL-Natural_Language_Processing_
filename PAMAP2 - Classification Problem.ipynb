{
 "cells": [
  {
   "cell_type": "markdown",
   "metadata": {},
   "source": [
    "# PAMAP2 DataSet - Classification Problem"
   ]
  },
  {
   "cell_type": "markdown",
   "metadata": {},
   "source": [
    "#### About The Data Set:\n",
    "\n",
    "\n",
    "The PAMAP2 Physical Activity Monitoring dataset contains data of 18 different physical activities (such as walking, cycling, playing soccer, etc.), performed by 9 subjects wearing 3 inertial measurement units and a heart rate monitor. "
   ]
  },
  {
   "cell_type": "markdown",
   "metadata": {},
   "source": [
    "## Imports "
   ]
  },
  {
   "cell_type": "code",
   "execution_count": 189,
   "metadata": {},
   "outputs": [],
   "source": [
    "# basic\n",
    "import numpy as np\n",
    "import pandas as pd\n",
    "import csv\n",
    "import nltk\n",
    "import tensorflow.compat.v1 as tf\n",
    "tf.disable_v2_behavior()\n",
    "\n",
    "\n",
    "\n",
    "import seaborn as sns\n",
    "from matplotlib import pyplot as plt\n",
    "from IPython.display import display\n",
    "from sklearn.linear_model import LinearRegression,LogisticRegression\n",
    "from sklearn.metrics import confusion_matrix,accuracy_score,log_loss\n",
    "from sklearn.ensemble import RandomForestClassifier\n",
    "from sklearn.tree import DecisionTreeClassifier\n",
    "from sklearn.preprocessing import OneHotEncoder\n",
    "\n",
    "# split data\n",
    "from sklearn.preprocessing import MinMaxScaler"
   ]
  },
  {
   "cell_type": "markdown",
   "metadata": {},
   "source": [
    "## Load the data from the data set"
   ]
  },
  {
   "cell_type": "code",
   "execution_count": 190,
   "metadata": {},
   "outputs": [],
   "source": [
    "#load_activity_map - get the map of humen acctivities describe in the data set\n",
    "\n",
    "def load_activity_map():\n",
    "    map = {}\n",
    "    map[0] = 'transient'\n",
    "    map[1] = 'lying'\n",
    "    map[2] = 'sitting'\n",
    "    map[3] = 'standing'\n",
    "    map[4] = 'walking'\n",
    "    map[5] = 'running'\n",
    "    map[6] = 'cycling'\n",
    "    map[7] = 'Nordic_walking'\n",
    "    map[9] = 'watching_TV'\n",
    "    map[10] = 'computer_work'\n",
    "    map[11] = 'car driving'\n",
    "    map[12] = 'ascending_stairs'\n",
    "    map[13] = 'descending_stairs'\n",
    "    map[16] = 'vacuum_cleaning'\n",
    "    map[17] = 'ironing'\n",
    "    map[18] = 'folding_laundry'\n",
    "    map[19] = 'house_cleaning'\n",
    "    map[20] = 'playing_soccer'\n",
    "    map[24] = 'rope_jumping'\n",
    "    return map"
   ]
  },
  {
   "cell_type": "code",
   "execution_count": 191,
   "metadata": {},
   "outputs": [],
   "source": [
    "#generate_three_IMU - genetrate 3 columns of x, y, z data\n",
    "\n",
    "def generate_three_IMU(name):\n",
    "    x = name +'_x'\n",
    "    y = name +'_y'\n",
    "    z = name +'_z'\n",
    "    return [x,y,z]"
   ]
  },
  {
   "cell_type": "code",
   "execution_count": 192,
   "metadata": {},
   "outputs": [],
   "source": [
    "#generate_four_IMU - genetrate 4 columns of x, y, z, w data\n",
    "\n",
    "def generate_four_IMU(name):\n",
    "    x = name +'_x'\n",
    "    y = name +'_y'\n",
    "    z = name +'_z'\n",
    "    w = name +'_w'\n",
    "    return [x,y,z,w]"
   ]
  },
  {
   "cell_type": "code",
   "execution_count": 193,
   "metadata": {},
   "outputs": [],
   "source": [
    "#generate_cols_IMU - for a given name generate 5 columns of the sensors as describe in the data set (accelmoter 16, 6, gyroscope, magnometer and orentaion\n",
    "\n",
    "def generate_cols_IMU(name):\n",
    "    # temp\n",
    "    temp = name+'_temperature'\n",
    "    output = [temp]\n",
    "    # acceleration 16\n",
    "    acceleration16 = name+'_3D_acceleration_16'\n",
    "    acceleration16 = generate_three_IMU(acceleration16)\n",
    "    output.extend(acceleration16)\n",
    "    # acceleration 6\n",
    "    acceleration6 = name+'_3D_acceleration_6'\n",
    "    acceleration6 = generate_three_IMU(acceleration6)\n",
    "    output.extend(acceleration6)\n",
    "    # gyroscope\n",
    "    gyroscope = name+'_3D_gyroscope'\n",
    "    gyroscope = generate_three_IMU(gyroscope)\n",
    "    output.extend(gyroscope)\n",
    "    # magnometer\n",
    "    magnometer = name+'_3D_magnetometer'\n",
    "    magnometer = generate_three_IMU(magnometer)\n",
    "    output.extend(magnometer)\n",
    "    # oreintation\n",
    "    oreintation = name+'_4D_orientation'\n",
    "    oreintation = generate_four_IMU(oreintation)\n",
    "    output.extend(oreintation)\n",
    "    return output"
   ]
  },
  {
   "cell_type": "code",
   "execution_count": 194,
   "metadata": {},
   "outputs": [],
   "source": [
    "#load_IMU - load all 52 columns of a subject in the data set\n",
    "\n",
    "def load_IMU():\n",
    "    output = ['time_stamp','activity_id', 'heart_rate']\n",
    "    hand = 'hand'\n",
    "    hand = generate_cols_IMU(hand)\n",
    "    output.extend(hand)\n",
    "    chest = 'chest'\n",
    "    chest = generate_cols_IMU(chest)\n",
    "    output.extend(chest)\n",
    "    ankle = 'ankle'\n",
    "    ankle = generate_cols_IMU(ankle)\n",
    "    output.extend(ankle)\n",
    "    return output"
   ]
  },
  {
   "cell_type": "code",
   "execution_count": 195,
   "metadata": {},
   "outputs": [],
   "source": [
    "#load_subjects - load all subjects from a given root\n",
    "\n",
    "def load_subjects(root='C:/Users/moria/Desktop/Project-PAMAP2/Data/Protocol/subject'):\n",
    "    output = pd.DataFrame()\n",
    "    cols = load_IMU()\n",
    "    \n",
    "    for i in range(101,110):\n",
    "        path = root + str(i) +'.dat'\n",
    "        subject = pd.read_table(path, header=None, sep='\\s+')\n",
    "        subject.columns = cols \n",
    "        subject['id'] = i\n",
    "        output = output.append(subject, ignore_index=True)\n",
    "    output.reset_index(drop=True, inplace=True)\n",
    "    return output"
   ]
  },
  {
   "cell_type": "code",
   "execution_count": null,
   "metadata": {},
   "outputs": [],
   "source": [
    "data = load_subjects()"
   ]
  },
  {
   "cell_type": "code",
   "execution_count": null,
   "metadata": {},
   "outputs": [],
   "source": [
    "data"
   ]
  },
  {
   "cell_type": "markdown",
   "metadata": {},
   "source": [
    "#### To optimize our data:\n",
    "\n",
    "1. We will take every NaN value and eplace it with the mean value of the column.\n",
    "\n",
    "2. We will note from the map that acitvity_id = 0 is not an valid activity."
   ]
  },
  {
   "cell_type": "code",
   "execution_count": null,
   "metadata": {},
   "outputs": [],
   "source": [
    "def fix_data(data):\n",
    "    \n",
    "    # define activity_id = 0 is not a valid activity\n",
    "    index_to_del = data[data['activity_id']==0].index\n",
    "    data = data.drop(index_to_del)\n",
    "    data = data.interpolate()\n",
    "    \n",
    "    # fill all the NaN values \n",
    "    for col_name in data.columns:\n",
    "        mean_col = data[col_name].mean()\n",
    "        data[col_name] = data[col_name].fillna(mean_col)\n",
    "    activity_mean = data.groupby(['activity_id']).mean().reset_index()\n",
    "    return data"
   ]
  },
  {
   "cell_type": "code",
   "execution_count": null,
   "metadata": {},
   "outputs": [],
   "source": [
    "data = fix_data(data)"
   ]
  },
  {
   "cell_type": "code",
   "execution_count": null,
   "metadata": {},
   "outputs": [],
   "source": [
    "data.describe()"
   ]
  },
  {
   "cell_type": "markdown",
   "metadata": {},
   "source": [
    "### Split data to Train & Test"
   ]
  },
  {
   "cell_type": "code",
   "execution_count": null,
   "metadata": {},
   "outputs": [],
   "source": [
    "def split_train_test(data):\n",
    "    \n",
    "    # create the test data\n",
    "    subject107 = data[data['id'] == 107]\n",
    "    subject108 = data[data['id'] == 108]\n",
    "    test = subject107.append(subject108)\n",
    "\n",
    "    # create the train data\n",
    "    train = data[data['id'] != 107]\n",
    "    train = data[data['id'] != 108]\n",
    "\n",
    "    # drop the columns id and time\n",
    "    test = test.drop([\"id\"], axis=1)\n",
    "    train = train.drop([\"id\"], axis=1)\n",
    "\n",
    "    # split train and test to X and y\n",
    "    X_train = train.drop(['activity_id','time_stamp'], axis=1).values\n",
    "    X_test = test.drop(['activity_id','time_stamp'], axis=1).values\n",
    "    \n",
    "    # make data scale to min max beetwin 0 to 1\n",
    "    scaler = MinMaxScaler()\n",
    "    scaler.fit(X_train)\n",
    "    scaler.fit(X_test)\n",
    "    X_train = scaler.transform(X_train)\n",
    "    X_test = scaler.transform(X_test)\n",
    "    \n",
    "    y_train = train['activity_id'].values\n",
    "    y_test = test['activity_id'].values\n",
    "    return X_train, X_test, y_train, y_test"
   ]
  },
  {
   "cell_type": "code",
   "execution_count": null,
   "metadata": {},
   "outputs": [],
   "source": [
    "X_train, X_test, y_train, y_test = split_train_test(data)\n",
    "print('Train shape X :',X_train.shape,' y ', y_train.shape)\n",
    "print('Test shape X :',X_test.shape,' y ', y_test.shape)"
   ]
  },
  {
   "cell_type": "markdown",
   "metadata": {},
   "source": [
    "### Naive solution"
   ]
  },
  {
   "cell_type": "code",
   "execution_count": null,
   "metadata": {},
   "outputs": [],
   "source": [
    "def base_line_preprocess(data):\n",
    "    train = data.groupby('activity_id')\n",
    "    X_base = train.mean().reset_index().drop(['activity_id','id','time_stamp'],axis=1).values\n",
    "    min_max_scaler = MinMaxScaler()\n",
    "    min_max_scaler.fit(X_base)\n",
    "    X_base = min_max_scaler.transform(X_base)\n",
    "    y_base = np.array(train['activity_id'].unique().explode().values).astype('float64')\n",
    "    return X_base, y_base"
   ]
  },
  {
   "cell_type": "code",
   "execution_count": null,
   "metadata": {},
   "outputs": [],
   "source": [
    "X_base, y_base = base_line_preprocess(data)\n",
    "print('X base shape: ', X_base.shape)\n",
    "print('y base shape: ', y_base.shape)"
   ]
  },
  {
   "cell_type": "markdown",
   "metadata": {},
   "source": [
    "# Model"
   ]
  },
  {
   "cell_type": "code",
   "execution_count": null,
   "metadata": {},
   "outputs": [],
   "source": [
    "features = X_test.shape[0]\n",
    "labels = 18\n",
    "learning_rate = 1/1000\n",
    "training_epoch = 1000\n",
    "batch_size = 5\n",
    "displey_set = 1"
   ]
  },
  {
   "cell_type": "markdown",
   "metadata": {},
   "source": [
    "### SoftMax"
   ]
  },
  {
   "cell_type": "code",
   "execution_count": null,
   "metadata": {},
   "outputs": [],
   "source": [
    "x = tf.placeholder(tf.float32, [None, features])\n",
    "y = tf.placeholder(tf.float32, [None, labels])\n",
    "\n",
    "# weight\n",
    "w = tf.Variable(tf.zeros([features, labels]))\n",
    "\n",
    "# Bias\n",
    "b = tf.Variable(tf.zeros([labels]))"
   ]
  },
  {
   "cell_type": "code",
   "execution_count": null,
   "metadata": {},
   "outputs": [],
   "source": [
    "pred = tf.nn.softmax(tf.matmul(x, w) + b)\n",
    "\n",
    "# loss function - minimize error\n",
    "loss = -tf.reduce_mean(y*tf.log(pred))\n",
    "\n",
    "update = tf.train.GradientDescentOptimizer(learning_rate).minimize(loss)"
   ]
  },
  {
   "cell_type": "markdown",
   "metadata": {},
   "source": [
    "### Train"
   ]
  },
  {
   "cell_type": "code",
   "execution_count": null,
   "metadata": {},
   "outputs": [],
   "source": [
    "def accuracy(pred, labels):\n",
    "    correct_pred = np.sum(np.argmax(pred, 1) == np.argmax(labels, 1))\n",
    "    acc = (100.0 * pred)/pred.shape[0]\n",
    "    return acc"
   ]
  },
  {
   "cell_type": "code",
   "execution_count": null,
   "metadata": {},
   "outputs": [],
   "source": [
    "sess = tf.Session()\n",
    "\n",
    "# init\n",
    "init = tf.global_variables_initializer()\n",
    "sess.run(init)\n",
    "\n",
    "for i in range(training_epoch):\n",
    "    sess.run(update, feed_dict = {x: X_test, y: y_test}) #BGD"
   ]
  },
  {
   "cell_type": "code",
   "execution_count": null,
   "metadata": {},
   "outputs": [],
   "source": [
    "with tf.Session() as sess:\n",
    "    \n",
    "    # run to init\n",
    "    init = tf.global_variables_initializer()\n",
    "    sess.run(init)\n",
    "    \n",
    "    # training\n",
    "    for epoch in range(training_epoch):\n",
    "        avg_cost = 0.0\n",
    "        avg_acc = 0.0\n",
    "        total_batch = len(X_train)//batch_size\n",
    "        \n",
    "        for i in range(total_batch):\n",
    "            batch_x = X_train[i:i+1+batch_size]\n",
    "            batch_y = X_train[i:i+1+batch_size]\n",
    "            \n",
    "            _, c = sess.run([update, loss], feed_dict={x: batch_x, y: batch_y})\n",
    "            avg_cost += c/total_batch\n",
    "            \n",
    "            pred_y = sess.run(pred, feed_dict={x: batch_x})\n",
    "            acc = accuracy(pred_y, batch_y)\n",
    "            avg_acc += acc/total_batch\n",
    "            \n",
    "        if (epoch+1)%display_step==0:\n",
    "            tc = sess.run(loss, feed_dict={x: X_test, y: y_test})\n",
    "            pred_y = sess.run(loss, feed_dict={x: X_test})\n",
    "            ta = accuracy(pred_y, y_test)\n",
    "            \n",
    "            print(\"Epoch: {:2.0f} - Cost: {:1.5f} - Acc: {:0.5f} - TestCost: {:0.5f} - TestAcc{:0.5f}\".format(epoch+1, avg_cost,avg_acc, tc, ta))\n",
    "            \n",
    "        print(\"Optimization Finnished\")\n",
    "        \n",
    "        # test model\n",
    "        correct_pred = tf.equal(tf.argmax(pred, 1), tf.argmax(y, 1))\n",
    "        \n",
    "        # calculate accuracy\n",
    "        acc = tf.reduce_mean(tf.cast(correct_pred, tf.float32))\n",
    "        \n",
    "        print(\"Test Accuracy: \", acc.eval({x: X_test, y: y_test}))"
   ]
  },
  {
   "cell_type": "code",
   "execution_count": null,
   "metadata": {},
   "outputs": [],
   "source": []
  },
  {
   "cell_type": "code",
   "execution_count": null,
   "metadata": {},
   "outputs": [],
   "source": []
  }
 ],
 "metadata": {
  "kernelspec": {
   "display_name": "Python 3 (ipykernel)",
   "language": "python",
   "name": "python3"
  },
  "language_info": {
   "codemirror_mode": {
    "name": "ipython",
    "version": 3
   },
   "file_extension": ".py",
   "mimetype": "text/x-python",
   "name": "python",
   "nbconvert_exporter": "python",
   "pygments_lexer": "ipython3",
   "version": "3.7.11"
  }
 },
 "nbformat": 4,
 "nbformat_minor": 2
}
